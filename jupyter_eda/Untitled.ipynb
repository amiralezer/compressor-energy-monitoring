{
 "cells": [
  {
   "cell_type": "code",
   "execution_count": 52,
   "id": "44a262ae",
   "metadata": {},
   "outputs": [],
   "source": [
    "import streamlit as st\n",
    "import pandas as pd\n",
    "import pymysql.cursors\n",
    "import numpy as np\n",
    "from datetime import datetime\n",
    "from datetime import time\n",
    "\n",
    "conn = pymysql.connect(host='127.0.0.1',\n",
    "                         user='root',\n",
    "                         password='root',\n",
    "                         database='node_test',\n",
    "                         )\n",
    "cursor = conn.cursor()\n",
    "#cursor.execute(\"SELECT value,created_at FROM node_test.node\")\n",
    "#data = cursor.fetchall()\n",
    "#df = pd.DataFrame(data, columns=['value',\n",
    "#                                 'created_at']\n",
    "\n",
    "#                  )\n",
    "#df['created_at'] = df['created_at'].dt.strftime('%d-%m-%Y %h:%m:%s')\n",
    "#df = df.set_index('created_at')\n"
   ]
  },
  {
   "cell_type": "code",
   "execution_count": 53,
   "id": "b865853d",
   "metadata": {},
   "outputs": [],
   "source": [
    "cursor.execute(\"SELECT max(created_at) FROM node_test.node\")\n",
    "max_date = cursor.fetchall()\n"
   ]
  },
  {
   "cell_type": "code",
   "execution_count": null,
   "id": "04f85996",
   "metadata": {},
   "outputs": [],
   "source": [
    "cursor.execute(\"SELECT min(created_at) FROM node_test.node\")\n",
    "min_date = cursor.fetchall()"
   ]
  },
  {
   "cell_type": "code",
   "execution_count": 56,
   "id": "caff2093",
   "metadata": {},
   "outputs": [
    {
     "data": {
      "text/plain": [
       "datetime.datetime(2023, 3, 28, 22, 4, 19)"
      ]
     },
     "execution_count": 56,
     "metadata": {},
     "output_type": "execute_result"
    }
   ],
   "source": [
    "max_date[0][0]"
   ]
  },
  {
   "cell_type": "code",
   "execution_count": 37,
   "id": "0639ad91",
   "metadata": {},
   "outputs": [
    {
     "data": {
      "text/html": [
       "<div>\n",
       "<style scoped>\n",
       "    .dataframe tbody tr th:only-of-type {\n",
       "        vertical-align: middle;\n",
       "    }\n",
       "\n",
       "    .dataframe tbody tr th {\n",
       "        vertical-align: top;\n",
       "    }\n",
       "\n",
       "    .dataframe thead th {\n",
       "        text-align: right;\n",
       "    }\n",
       "</style>\n",
       "<table border=\"1\" class=\"dataframe\">\n",
       "  <thead>\n",
       "    <tr style=\"text-align: right;\">\n",
       "      <th></th>\n",
       "      <th>value</th>\n",
       "      <th>created_at</th>\n",
       "    </tr>\n",
       "  </thead>\n",
       "  <tbody>\n",
       "    <tr>\n",
       "      <th>0</th>\n",
       "      <td>0.048343</td>\n",
       "      <td>2023-03-28 20:32:50</td>\n",
       "    </tr>\n",
       "    <tr>\n",
       "      <th>1</th>\n",
       "      <td>0.517451</td>\n",
       "      <td>2023-03-28 20:32:51</td>\n",
       "    </tr>\n",
       "    <tr>\n",
       "      <th>2</th>\n",
       "      <td>0.865741</td>\n",
       "      <td>2023-03-28 20:32:52</td>\n",
       "    </tr>\n",
       "    <tr>\n",
       "      <th>3</th>\n",
       "      <td>0.926398</td>\n",
       "      <td>2023-03-28 20:32:53</td>\n",
       "    </tr>\n",
       "    <tr>\n",
       "      <th>4</th>\n",
       "      <td>0.960988</td>\n",
       "      <td>2023-03-28 20:32:54</td>\n",
       "    </tr>\n",
       "    <tr>\n",
       "      <th>...</th>\n",
       "      <td>...</td>\n",
       "      <td>...</td>\n",
       "    </tr>\n",
       "    <tr>\n",
       "      <th>2205</th>\n",
       "      <td>0.474191</td>\n",
       "      <td>2023-03-28 21:09:55</td>\n",
       "    </tr>\n",
       "    <tr>\n",
       "      <th>2206</th>\n",
       "      <td>0.450305</td>\n",
       "      <td>2023-03-28 21:09:56</td>\n",
       "    </tr>\n",
       "    <tr>\n",
       "      <th>2207</th>\n",
       "      <td>0.590713</td>\n",
       "      <td>2023-03-28 21:09:57</td>\n",
       "    </tr>\n",
       "    <tr>\n",
       "      <th>2208</th>\n",
       "      <td>0.260437</td>\n",
       "      <td>2023-03-28 21:09:58</td>\n",
       "    </tr>\n",
       "    <tr>\n",
       "      <th>2209</th>\n",
       "      <td>0.016093</td>\n",
       "      <td>2023-03-28 21:09:59</td>\n",
       "    </tr>\n",
       "  </tbody>\n",
       "</table>\n",
       "<p>2210 rows × 2 columns</p>\n",
       "</div>"
      ],
      "text/plain": [
       "         value           created_at\n",
       "0     0.048343  2023-03-28 20:32:50\n",
       "1     0.517451  2023-03-28 20:32:51\n",
       "2     0.865741  2023-03-28 20:32:52\n",
       "3     0.926398  2023-03-28 20:32:53\n",
       "4     0.960988  2023-03-28 20:32:54\n",
       "...        ...                  ...\n",
       "2205  0.474191  2023-03-28 21:09:55\n",
       "2206  0.450305  2023-03-28 21:09:56\n",
       "2207  0.590713  2023-03-28 21:09:57\n",
       "2208  0.260437  2023-03-28 21:09:58\n",
       "2209  0.016093  2023-03-28 21:09:59\n",
       "\n",
       "[2210 rows x 2 columns]"
      ]
     },
     "execution_count": 37,
     "metadata": {},
     "output_type": "execute_result"
    }
   ],
   "source": [
    "df"
   ]
  },
  {
   "cell_type": "code",
   "execution_count": 44,
   "id": "f1e75b85",
   "metadata": {},
   "outputs": [],
   "source": [
    "df['created_at']= pd.to_datetime(df['created_at'])\n"
   ]
  },
  {
   "cell_type": "code",
   "execution_count": 45,
   "id": "7f28fd32",
   "metadata": {},
   "outputs": [
    {
     "data": {
      "text/plain": [
       "datetime.datetime(2023, 3, 28, 20, 32, 50)"
      ]
     },
     "execution_count": 45,
     "metadata": {},
     "output_type": "execute_result"
    }
   ],
   "source": [
    "df['created_at'].iloc[0].to_pydatetime()\n",
    "#dt_object = datetime.fromtimestamp(timestamp)"
   ]
  },
  {
   "cell_type": "code",
   "execution_count": 39,
   "id": "4934f053",
   "metadata": {},
   "outputs": [
    {
     "data": {
      "text/plain": [
       "value                float64\n",
       "created_at    datetime64[ns]\n",
       "dtype: object"
      ]
     },
     "execution_count": 39,
     "metadata": {},
     "output_type": "execute_result"
    }
   ],
   "source": [
    "df.dtypes"
   ]
  },
  {
   "cell_type": "code",
   "execution_count": 49,
   "id": "a7201a50",
   "metadata": {},
   "outputs": [
    {
     "data": {
      "text/plain": [
       "'2023-03-28 21:18:13'"
      ]
     },
     "execution_count": 49,
     "metadata": {},
     "output_type": "execute_result"
    }
   ],
   "source": [
    "df['created_at'].max()"
   ]
  },
  {
   "cell_type": "code",
   "execution_count": 50,
   "id": "3aa7e944",
   "metadata": {},
   "outputs": [
    {
     "data": {
      "text/plain": [
       "'2023-03-28 20:32:50'"
      ]
     },
     "execution_count": 50,
     "metadata": {},
     "output_type": "execute_result"
    }
   ],
   "source": [
    "df['created_at'].min()"
   ]
  },
  {
   "cell_type": "code",
   "execution_count": 21,
   "id": "de79c618",
   "metadata": {},
   "outputs": [
    {
     "data": {
      "text/plain": [
       "'2023-03-28 20:32:50'"
      ]
     },
     "execution_count": 21,
     "metadata": {},
     "output_type": "execute_result"
    }
   ],
   "source": [
    "df['created_at'].iloc[0]"
   ]
  },
  {
   "cell_type": "code",
   "execution_count": null,
   "id": "b5eaa853",
   "metadata": {},
   "outputs": [],
   "source": [
    "\n",
    "#st.line_chart(chart_data)\n",
    "#datas = df[['value', 'created_at']] # Also include the \"date\" column\n",
    "#st.line_chart(datas)\n",
    "\n",
    "\n",
    "appointment = st.slider(\n",
    "    \"Schedule your appointment:\",\n",
    "    value=(df['created_at'].iloc[0]\n",
    "           #,df['created_at'].iloc[len(df)] ),\n",
    "   \n",
    "    )\n",
    ")"
   ]
  },
  {
   "cell_type": "code",
   "execution_count": 2,
   "id": "ed4bca07",
   "metadata": {},
   "outputs": [],
   "source": [
    "import streamlit as st\n",
    "import pandas as pd\n",
    "import pymysql.cursors\n",
    "import numpy as np\n",
    "from datetime import datetime\n",
    "from datetime import time\n",
    "\n",
    "conn = pymysql.connect(host='127.0.0.1',\n",
    "                         user='root',\n",
    "                         password='root',\n",
    "                         database='node_test',\n",
    "                         )\n",
    "\n",
    "cursor = conn.cursor()\n",
    "tableName='node'\n",
    "\n",
    "cursor.execute(\"SELECT value,created_at FROM node_test.node\")\n",
    "data = cursor.fetchall()\n",
    "df = pd.DataFrame(data, columns=['value',\n",
    "                                 'created_at']\n",
    "\n",
    "                  )\n"
   ]
  },
  {
   "cell_type": "code",
   "execution_count": 3,
   "id": "fe993ca0",
   "metadata": {},
   "outputs": [
    {
     "data": {
      "text/html": [
       "<div>\n",
       "<style scoped>\n",
       "    .dataframe tbody tr th:only-of-type {\n",
       "        vertical-align: middle;\n",
       "    }\n",
       "\n",
       "    .dataframe tbody tr th {\n",
       "        vertical-align: top;\n",
       "    }\n",
       "\n",
       "    .dataframe thead th {\n",
       "        text-align: right;\n",
       "    }\n",
       "</style>\n",
       "<table border=\"1\" class=\"dataframe\">\n",
       "  <thead>\n",
       "    <tr style=\"text-align: right;\">\n",
       "      <th></th>\n",
       "      <th>value</th>\n",
       "      <th>created_at</th>\n",
       "    </tr>\n",
       "  </thead>\n",
       "  <tbody>\n",
       "    <tr>\n",
       "      <th>0</th>\n",
       "      <td>0.048343</td>\n",
       "      <td>2023-03-28 20:32:50</td>\n",
       "    </tr>\n",
       "    <tr>\n",
       "      <th>1</th>\n",
       "      <td>0.517451</td>\n",
       "      <td>2023-03-28 20:32:51</td>\n",
       "    </tr>\n",
       "    <tr>\n",
       "      <th>2</th>\n",
       "      <td>0.865741</td>\n",
       "      <td>2023-03-28 20:32:52</td>\n",
       "    </tr>\n",
       "    <tr>\n",
       "      <th>3</th>\n",
       "      <td>0.926398</td>\n",
       "      <td>2023-03-28 20:32:53</td>\n",
       "    </tr>\n",
       "    <tr>\n",
       "      <th>4</th>\n",
       "      <td>0.960988</td>\n",
       "      <td>2023-03-28 20:32:54</td>\n",
       "    </tr>\n",
       "    <tr>\n",
       "      <th>...</th>\n",
       "      <td>...</td>\n",
       "      <td>...</td>\n",
       "    </tr>\n",
       "    <tr>\n",
       "      <th>6745</th>\n",
       "      <td>0.515262</td>\n",
       "      <td>2023-03-28 22:26:18</td>\n",
       "    </tr>\n",
       "    <tr>\n",
       "      <th>6746</th>\n",
       "      <td>0.106268</td>\n",
       "      <td>2023-03-28 22:26:19</td>\n",
       "    </tr>\n",
       "    <tr>\n",
       "      <th>6747</th>\n",
       "      <td>0.158515</td>\n",
       "      <td>2023-03-28 22:26:20</td>\n",
       "    </tr>\n",
       "    <tr>\n",
       "      <th>6748</th>\n",
       "      <td>0.714182</td>\n",
       "      <td>2023-03-28 22:26:21</td>\n",
       "    </tr>\n",
       "    <tr>\n",
       "      <th>6749</th>\n",
       "      <td>0.091523</td>\n",
       "      <td>2023-03-28 22:26:22</td>\n",
       "    </tr>\n",
       "  </tbody>\n",
       "</table>\n",
       "<p>6750 rows × 2 columns</p>\n",
       "</div>"
      ],
      "text/plain": [
       "         value          created_at\n",
       "0     0.048343 2023-03-28 20:32:50\n",
       "1     0.517451 2023-03-28 20:32:51\n",
       "2     0.865741 2023-03-28 20:32:52\n",
       "3     0.926398 2023-03-28 20:32:53\n",
       "4     0.960988 2023-03-28 20:32:54\n",
       "...        ...                 ...\n",
       "6745  0.515262 2023-03-28 22:26:18\n",
       "6746  0.106268 2023-03-28 22:26:19\n",
       "6747  0.158515 2023-03-28 22:26:20\n",
       "6748  0.714182 2023-03-28 22:26:21\n",
       "6749  0.091523 2023-03-28 22:26:22\n",
       "\n",
       "[6750 rows x 2 columns]"
      ]
     },
     "execution_count": 3,
     "metadata": {},
     "output_type": "execute_result"
    }
   ],
   "source": [
    "df"
   ]
  },
  {
   "cell_type": "code",
   "execution_count": 8,
   "id": "0c261246",
   "metadata": {},
   "outputs": [],
   "source": [
    "\n",
    "batata = df[df['created_at']>='2023-03-28 22:25' or df['created_at']<='2023-03-28 22:33']"
   ]
  },
  {
   "cell_type": "code",
   "execution_count": 9,
   "id": "618a25ce",
   "metadata": {},
   "outputs": [
    {
     "data": {
      "text/html": [
       "<div>\n",
       "<style scoped>\n",
       "    .dataframe tbody tr th:only-of-type {\n",
       "        vertical-align: middle;\n",
       "    }\n",
       "\n",
       "    .dataframe tbody tr th {\n",
       "        vertical-align: top;\n",
       "    }\n",
       "\n",
       "    .dataframe thead th {\n",
       "        text-align: right;\n",
       "    }\n",
       "</style>\n",
       "<table border=\"1\" class=\"dataframe\">\n",
       "  <thead>\n",
       "    <tr style=\"text-align: right;\">\n",
       "      <th></th>\n",
       "      <th>value</th>\n",
       "      <th>created_at</th>\n",
       "    </tr>\n",
       "  </thead>\n",
       "  <tbody>\n",
       "    <tr>\n",
       "      <th>6668</th>\n",
       "      <td>0.119940</td>\n",
       "      <td>2023-03-28 22:25:00</td>\n",
       "    </tr>\n",
       "    <tr>\n",
       "      <th>6669</th>\n",
       "      <td>0.879240</td>\n",
       "      <td>2023-03-28 22:25:01</td>\n",
       "    </tr>\n",
       "    <tr>\n",
       "      <th>6670</th>\n",
       "      <td>0.178565</td>\n",
       "      <td>2023-03-28 22:25:02</td>\n",
       "    </tr>\n",
       "    <tr>\n",
       "      <th>6671</th>\n",
       "      <td>0.975046</td>\n",
       "      <td>2023-03-28 22:25:03</td>\n",
       "    </tr>\n",
       "    <tr>\n",
       "      <th>6672</th>\n",
       "      <td>0.696378</td>\n",
       "      <td>2023-03-28 22:25:04</td>\n",
       "    </tr>\n",
       "    <tr>\n",
       "      <th>...</th>\n",
       "      <td>...</td>\n",
       "      <td>...</td>\n",
       "    </tr>\n",
       "    <tr>\n",
       "      <th>6745</th>\n",
       "      <td>0.515262</td>\n",
       "      <td>2023-03-28 22:26:18</td>\n",
       "    </tr>\n",
       "    <tr>\n",
       "      <th>6746</th>\n",
       "      <td>0.106268</td>\n",
       "      <td>2023-03-28 22:26:19</td>\n",
       "    </tr>\n",
       "    <tr>\n",
       "      <th>6747</th>\n",
       "      <td>0.158515</td>\n",
       "      <td>2023-03-28 22:26:20</td>\n",
       "    </tr>\n",
       "    <tr>\n",
       "      <th>6748</th>\n",
       "      <td>0.714182</td>\n",
       "      <td>2023-03-28 22:26:21</td>\n",
       "    </tr>\n",
       "    <tr>\n",
       "      <th>6749</th>\n",
       "      <td>0.091523</td>\n",
       "      <td>2023-03-28 22:26:22</td>\n",
       "    </tr>\n",
       "  </tbody>\n",
       "</table>\n",
       "<p>82 rows × 2 columns</p>\n",
       "</div>"
      ],
      "text/plain": [
       "         value          created_at\n",
       "6668  0.119940 2023-03-28 22:25:00\n",
       "6669  0.879240 2023-03-28 22:25:01\n",
       "6670  0.178565 2023-03-28 22:25:02\n",
       "6671  0.975046 2023-03-28 22:25:03\n",
       "6672  0.696378 2023-03-28 22:25:04\n",
       "...        ...                 ...\n",
       "6745  0.515262 2023-03-28 22:26:18\n",
       "6746  0.106268 2023-03-28 22:26:19\n",
       "6747  0.158515 2023-03-28 22:26:20\n",
       "6748  0.714182 2023-03-28 22:26:21\n",
       "6749  0.091523 2023-03-28 22:26:22\n",
       "\n",
       "[82 rows x 2 columns]"
      ]
     },
     "execution_count": 9,
     "metadata": {},
     "output_type": "execute_result"
    }
   ],
   "source": [
    "batata"
   ]
  },
  {
   "cell_type": "code",
   "execution_count": 3,
   "id": "800912a3",
   "metadata": {},
   "outputs": [
    {
     "ename": "ModuleNotFoundError",
     "evalue": "No module named 'pymysql'",
     "output_type": "error",
     "traceback": [
      "\u001b[1;31m---------------------------------------------------------------------------\u001b[0m",
      "\u001b[1;31mModuleNotFoundError\u001b[0m                       Traceback (most recent call last)",
      "\u001b[1;32m~\\AppData\\Local\\Temp\\ipykernel_23012\\149384252.py\u001b[0m in \u001b[0;36m<module>\u001b[1;34m\u001b[0m\n\u001b[0;32m      1\u001b[0m \u001b[1;32mimport\u001b[0m \u001b[0mpandas\u001b[0m \u001b[1;32mas\u001b[0m \u001b[0mpd\u001b[0m\u001b[1;33m\u001b[0m\u001b[1;33m\u001b[0m\u001b[0m\n\u001b[1;32m----> 2\u001b[1;33m \u001b[1;32mimport\u001b[0m \u001b[0mpymysql\u001b[0m\u001b[1;33m.\u001b[0m\u001b[0mcursors\u001b[0m\u001b[1;33m\u001b[0m\u001b[1;33m\u001b[0m\u001b[0m\n\u001b[0m\u001b[0;32m      3\u001b[0m \u001b[1;32mimport\u001b[0m \u001b[0mnumpy\u001b[0m \u001b[1;32mas\u001b[0m \u001b[0mnp\u001b[0m\u001b[1;33m\u001b[0m\u001b[1;33m\u001b[0m\u001b[0m\n\u001b[0;32m      4\u001b[0m \u001b[1;32mimport\u001b[0m \u001b[0mplotly\u001b[0m\u001b[1;33m.\u001b[0m\u001b[0mexpress\u001b[0m \u001b[1;32mas\u001b[0m \u001b[0mpx\u001b[0m\u001b[1;33m\u001b[0m\u001b[1;33m\u001b[0m\u001b[0m\n\u001b[0;32m      5\u001b[0m \u001b[1;32mfrom\u001b[0m \u001b[0mdatetime\u001b[0m \u001b[1;32mimport\u001b[0m \u001b[0mdatetime\u001b[0m\u001b[1;33m\u001b[0m\u001b[1;33m\u001b[0m\u001b[0m\n",
      "\u001b[1;31mModuleNotFoundError\u001b[0m: No module named 'pymysql'"
     ]
    }
   ],
   "source": [
    "import pandas as pd\n",
    "import pymysql.cursors\n",
    "import numpy as np\n",
    "import plotly.express as px \n",
    "from datetime import datetime\n",
    "from datetime import time\n",
    "\n",
    "\n",
    "conn = pymysql.connect(host='192.168.18.27',\n",
    "                       user='piuser',\n",
    "                       password='piuser',\n",
    "                       database='pi2')\n",
    "\n",
    "tableName = 'compressor_measurements'\n",
    "\n",
    "cursor = conn.cursor()\n",
    "cursor.execute(\"SELECT moment, voltage, current, power_W, energy_WH, power_factor_measured, power_factor_calc, phase_angle_measured, phase_angle_calc FROM pi2.\" + tableName)\n",
    "data = cursor.fetchall()\n",
    "df = pd.DataFrame(data, columns=['moment', 'voltage', 'current', 'power_W', 'energy_WH', 'power_factor_measured', 'power_factor_calc', 'phase_angle_measured', 'phase_angle_calc'])"
   ]
  },
  {
   "cell_type": "code",
   "execution_count": null,
   "id": "f398cb9c",
   "metadata": {},
   "outputs": [],
   "source": []
  }
 ],
 "metadata": {
  "kernelspec": {
   "display_name": "Python 3 (ipykernel)",
   "language": "python",
   "name": "python3"
  },
  "language_info": {
   "codemirror_mode": {
    "name": "ipython",
    "version": 3
   },
   "file_extension": ".py",
   "mimetype": "text/x-python",
   "name": "python",
   "nbconvert_exporter": "python",
   "pygments_lexer": "ipython3",
   "version": "3.9.13"
  }
 },
 "nbformat": 4,
 "nbformat_minor": 5
}
